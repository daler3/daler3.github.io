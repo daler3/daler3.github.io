{
 "cells": [
  {
   "cell_type": "markdown",
   "metadata": {},
   "source": [
    "# Regression notebook"
   ]
  },
  {
   "cell_type": "code",
   "execution_count": 1,
   "metadata": {
    "collapsed": false
   },
   "outputs": [],
   "source": [
    "#Loading the data\n",
    "import csv\n",
    "\n",
    "# open the file in universal line ending mode \n",
    "#the file called 2015_tree_data_updated.csv is exactly the same download for the first assignment, jusr re-named.\n",
    "#This file is not included in the repo because is very big\n",
    "with open('2015_tree_data_updated.csv', 'r') as infile:\n",
    "    # read the file as a dictionary for each row ({header : value})\n",
    "    reader = csv.DictReader(infile)\n",
    "    data = {} #empty set\n",
    "    for row in reader:\n",
    "        for header, value in row.items():\n",
    "            try:\n",
    "                data[header].append(value)\n",
    "            except KeyError:\n",
    "                data[header] = [value]\n",
    "Diameter = data['Diameter']\n",
    "Health = data['Health']\n",
    "Spc_Latin = data['Spc_Latin']\n",
    "Spc_Common = data['Spc_Common']\n",
    "Sidewalk_Condition = data['Sidewalk_Condition']\n",
    "problems = data['problems']\n",
    "root_stone = data['root_stone']\n",
    "root_grate = data['root_grate']\n",
    "root_other = data['root_other']\n",
    "trunk_wire = data['trunk_wire']\n",
    "trnk_light = data['trnk_light']\n",
    "trnk_other = data['trnk_other']\n",
    "brch_light = data['brch_light']\n",
    "brch_shoe = data['brch_shoe']\n",
    "brch_other = data['brch_other']\n",
    "Address = data['Address']\n",
    "Zipcode = data['Zipcode']\n",
    "CB = data['CB']\n",
    "Borough = data['Borough']\n",
    "Latitude = data['Latitude']\n",
    "Longitude = data['Longitude']\n",
    "neigh = data['Neighbourhoods']"
   ]
  },
  {
   "cell_type": "markdown",
   "metadata": {},
   "source": [
    "The aim is to compute the avg diameter, amount of trees, avg house price and then air pollution for each neighboorhood."
   ]
  },
  {
   "cell_type": "code",
   "execution_count": 2,
   "metadata": {
    "collapsed": false
   },
   "outputs": [],
   "source": [
    "dic_neigh_count = {}\n",
    "for n in neigh: \n",
    "    dic_neigh_count[n] = 0\n",
    "\n",
    "n_dic = {}\n",
    "n_list = list(set(list(neigh)))\n",
    "for n in n_list:\n",
    "    n_dic[n] = []\n",
    "i = 0\n",
    "for n in neigh: \n",
    "    n_dic[n].append(i)\n",
    "    i += 1\n",
    "\n",
    "#avg diameter in each neighboorhood\n",
    "index = 0\n",
    "dic_n = {}\n",
    "dic_n_count = {}\n",
    "for n in list(set(list(neigh))):\n",
    "    dic_n[n] = 0\n",
    "    dic_n_count[n] = 0\n",
    "\n",
    "for d in Diameter:\n",
    "    #if int(CB[index])<400 and int(CB[index])>299: \n",
    "    dic_n[neigh[index]] += float(d)\n",
    "    dic_n_count[neigh[index]] += 1\n",
    "    index += 1\n",
    "for k in dic_n.keys(): \n",
    "    if dic_n_count[k] <> 0:\n",
    "        dic_n[k] = float(dic_n[k]/dic_n_count[k])"
   ]
  },
  {
   "cell_type": "code",
   "execution_count": null,
   "metadata": {
    "collapsed": false
   },
   "outputs": [],
   "source": []
  },
  {
   "cell_type": "code",
   "execution_count": 4,
   "metadata": {
    "collapsed": false
   },
   "outputs": [],
   "source": [
    "with open('AirPollution/Modified/NO2.csv', 'r') as infile:\n",
    "    # read the file as a dictionary for each row ({header : value})\n",
    "    reader = csv.DictReader(infile)\n",
    "    data = {} #empty set\n",
    "    for row in reader:\n",
    "        for header, value in row.items():\n",
    "            try:\n",
    "                data[header].append(value)\n",
    "            except KeyError:\n",
    "                data[header] = [value]\n",
    "\n",
    "boro_airno2 = data['Borough']\n",
    "geo_id_airno2 = data['Geography']\n",
    "geo_airno2 = data['Geography_id']\n",
    "mean_no2_airno2 = data['Mean (ppb)']\n",
    "\n",
    "dic_no2 = {}\n",
    "i = 0\n",
    "for d in geo_airno2: \n",
    "    dic_no2[d] = mean_no2_airno2[i]\n",
    "    i += 1\n",
    "\n",
    "with open('AirPollution/Modified/O3.csv', 'r') as infile:\n",
    "    # read the file as a dictionary for each row ({header : value})\n",
    "    reader = csv.DictReader(infile)\n",
    "    data = {} #empty set\n",
    "    for row in reader:\n",
    "        for header, value in row.items():\n",
    "            try:\n",
    "                data[header].append(value)\n",
    "            except KeyError:\n",
    "                data[header] = [value]\n",
    "\n",
    "boro_airo3 = data['Borough']\n",
    "geo_id_airo3 = data['Geography']\n",
    "geo_airo3 = data['Geography_id']\n",
    "mean_air03 = data['Mean (ppb)']\n",
    "\n",
    "dic_o3 = {}\n",
    "i = 0\n",
    "for d in geo_airo3: \n",
    "    dic_o3[d] = mean_air03[i]\n",
    "    i += 1\n",
    "\n",
    "with open('AirPollution/Modified/PM25.csv', 'r') as infile:\n",
    "    # read the file as a dictionary for each row ({header : value})\n",
    "    reader = csv.DictReader(infile)\n",
    "    data = {} #empty set\n",
    "    for row in reader:\n",
    "        for header, value in row.items():\n",
    "            try:\n",
    "                data[header].append(value)\n",
    "            except KeyError:\n",
    "                data[header] = [value]\n",
    "\n",
    "boro_airpm25 = data['Borough']\n",
    "geo_id_airpm25 = data['Geography']\n",
    "geo_airpm25 = data['Geography_id']\n",
    "mean_airpm25 = data['Mean (mcg per cubic meter)']\n",
    "\n",
    "dic_pm25 = {}\n",
    "i = 0\n",
    "for d in geo_airpm25: \n",
    "    dic_pm25[d] = mean_airpm25[i]\n",
    "    i += 1\n",
    "\n",
    "\n",
    "\n",
    "with open('AirPollution/Modified/Black_Carbon.csv', 'r') as infile:\n",
    "    # read the file as a dictionary for each row ({header : value})\n",
    "    reader = csv.DictReader(infile)\n",
    "    data = {} #empty set\n",
    "    for row in reader:\n",
    "        for header, value in row.items():\n",
    "            try:\n",
    "                data[header].append(value)\n",
    "            except KeyError:\n",
    "                data[header] = [value]\n",
    "\n",
    "boro_airpmbc = data['Borough']\n",
    "geo_id_airbc = data['Geography']\n",
    "geo_airbc = data['Geography_id']\n",
    "mean_no2_airbc = data['Mean (absorbance units)']\n",
    "\n",
    "dic_bc = {}\n",
    "i = 0\n",
    "for d in geo_airbc: \n",
    "    dic_bc[d] = mean_no2_airbc[i]\n",
    "    i += 1"
   ]
  },
  {
   "cell_type": "code",
   "execution_count": 5,
   "metadata": {
    "collapsed": false
   },
   "outputs": [],
   "source": [
    "dic_n_cb = {}\n",
    "#initiailize dictionary with list of neigh\n",
    "for n in list(set(list(neigh))): \n",
    "    dic_n_cb[n] = 'E'\n",
    "\n",
    "unique_n_list = list(set(list(neigh)))\n",
    "list_n_done = []\n",
    "len_unique_n_list = len(unique_n_list)\n",
    "\n",
    "i = 0 \n",
    "list_cb = []\n",
    "list_boro = []\n",
    "list_n = []\n",
    "\n",
    "i = 0\n",
    "for n in neigh: \n",
    "    if n not in list_n_done:\n",
    "        list_n.append(n)\n",
    "        list_n_done.append(n)\n",
    "        list_cb.append(CB[i])\n",
    "        list_boro.append(Borough[i])\n",
    "    i += 1\n",
    "    \n",
    "dic_n_no2 = {}\n",
    "dic_n_o3 = {}\n",
    "dic_n_pm25 = {}\n",
    "dic_n_bc = {}\n",
    "list_no2 = []\n",
    "list_o3 = []\n",
    "list_pm25 = []\n",
    "list_bc = []\n",
    "\n",
    "for x in list_cb: \n",
    "    list_no2.append(float(dic_no2[x]))\n",
    "    list_o3.append(float(dic_o3[x]))\n",
    "    list_pm25.append(float(dic_pm25[x]))\n",
    "    list_bc.append(float(dic_bc[x]))"
   ]
  },
  {
   "cell_type": "code",
   "execution_count": 6,
   "metadata": {
    "collapsed": true
   },
   "outputs": [],
   "source": [
    "i = 0\n",
    "for n in list_n: \n",
    "    dic_n_no2[n] = list_no2[i]\n",
    "    dic_n_o3[n] = list_o3[i]\n",
    "    dic_n_pm25[n] = list_pm25[i]\n",
    "    dic_n_bc[n] = list_bc[i]\n",
    "    i += 1"
   ]
  },
  {
   "cell_type": "code",
   "execution_count": 7,
   "metadata": {
    "collapsed": false
   },
   "outputs": [],
   "source": [
    "input_tuple = []\n",
    "for n in list_n: \n",
    "    input_tuple.append([float(dic_n[n]), float(dic_n_count[n])])"
   ]
  },
  {
   "cell_type": "code",
   "execution_count": 8,
   "metadata": {
    "collapsed": false
   },
   "outputs": [],
   "source": [
    "import csv\n",
    "with open('AirPollutionLabeledPoint.csv', 'wb') as csvfile:\n",
    "    crimewriter = csv.writer(csvfile)\n",
    "    crimewriter.writerow(('Borough', 'CB', 'Neighbourhood'))\n",
    "    for xd, yd, zd in zip(list_boro, list_cb, list_n):\n",
    "        crimewriter.writerow( (xd, yd, zd ) )\n",
    "    csvfile.close()"
   ]
  },
  {
   "cell_type": "code",
   "execution_count": 10,
   "metadata": {
    "collapsed": false
   },
   "outputs": [],
   "source": [
    "#output air pollution lists\n",
    "with open('AirPollution_Mod.csv', 'wb') as csvfile:\n",
    "    crimewriter = csv.writer(csvfile)\n",
    "    crimewriter.writerow(('Borough', 'CB', 'Neighbourhood', 'NO2', 'O3', 'PM25', 'BC'))\n",
    "    for lb, lc, ln, xd, yd, zd, hd in zip(list_boro, list_cb, list_n, list_no2, list_o3, list_pm25, list_bc):\n",
    "        crimewriter.writerow( ( lb, lc, ln, xd, yd, zd, hd ) )\n",
    "    csvfile.close()"
   ]
  },
  {
   "cell_type": "code",
   "execution_count": 12,
   "metadata": {
    "collapsed": false
   },
   "outputs": [],
   "source": [
    "import numpy as np\n",
    "input_tuple1 = []\n",
    "input_tuple2 = []\n",
    "for n in list_n: \n",
    "    input_tuple1.append(float(dic_n[n]))\n",
    "    input_tuple2.append(float(dic_n_count[n]))\n",
    "    \n",
    "#output air pollution lists\n",
    "with open('AirPollutionCSV/Diameter.csv', 'wb') as csvfile:\n",
    "    crimewriter = csv.writer(csvfile)\n",
    "    crimewriter.writerow(('Borough', 'CB', 'Neighbourhood', 'Diameter'))\n",
    "    for lb, lc, ln, xd in zip(list_boro, list_cb, list_n, input_tuple1):\n",
    "        crimewriter.writerow( ( lb, lc, ln, xd ) )\n",
    "    csvfile.close()\n",
    "\n",
    "#output air pollution lists\n",
    "with open('AirPollutionCSV/TreesAmount.csv', 'wb') as csvfile:\n",
    "    crimewriter = csv.writer(csvfile)\n",
    "    crimewriter.writerow(('Borough', 'CB', 'Neighbourhood', 'TreesAmount'))\n",
    "    for lb, lc, ln, xd in zip(list_boro, list_cb, list_n, input_tuple2):\n",
    "        crimewriter.writerow( ( lb, lc, ln, xd ) )\n",
    "    csvfile.close()"
   ]
  },
  {
   "cell_type": "code",
   "execution_count": 13,
   "metadata": {
    "collapsed": false,
    "scrolled": false
   },
   "outputs": [
    {
     "name": "stdout",
     "output_type": "stream",
     "text": [
      "Beta= [[-0.56313229]] \n",
      "Alpha= [ 26.72807853]\n"
     ]
    },
    {
     "data": {
      "image/png": "[encoded data removed]",
      "text/plain": [
       "<matplotlib.figure.Figure at 0x12aef95d0>"
      ]
     },
     "metadata": {},
     "output_type": "display_data"
    },
    {
     "name": "stdout",
     "output_type": "stream",
     "text": [
      "Beta= [[-0.00101366]] \n",
      "Alpha= [ 22.78199381]\n"
     ]
    },
    {
     "data": {
      "image/png": "[encoded data removed]",
      "text/plain": [
       "<matplotlib.figure.Figure at 0x137a7d0d0>"
      ]
     },
     "metadata": {},
     "output_type": "display_data"
    },
    {
     "name": "stdout",
     "output_type": "stream",
     "text": [
      "Beta= [[ 0.34349687]] \n",
      "Alpha= [ 26.98769928]\n"
     ]
    },
    {
     "data": {
      "image/png": "[encoded data removed]",
      "text/plain": [
       "<matplotlib.figure.Figure at 0x13c887850>"
      ]
     },
     "metadata": {},
     "output_type": "display_data"
    },
    {
     "name": "stdout",
     "output_type": "stream",
     "text": [
      "Beta= [[ 0.00049559]] \n",
      "Alpha= [ 29.74361677]\n"
     ]
    },
    {
     "data": {
      "image/png": "[encoded data removed]",
      "text/plain": [
       "<matplotlib.figure.Figure at 0x10b611e90>"
      ]
     },
     "metadata": {},
     "output_type": "display_data"
    },
    {
     "name": "stdout",
     "output_type": "stream",
     "text": [
      "Beta= [[-0.19229345]] \n",
      "Alpha= [ 11.23265592]\n"
     ]
    },
    {
     "data": {
      "image/png": "[encoded data removed]",
      "text/plain": [
       "<matplotlib.figure.Figure at 0x10fd0cb90>"
      ]
     },
     "metadata": {},
     "output_type": "display_data"
    },
    {
     "name": "stdout",
     "output_type": "stream",
     "text": [
      "Beta= [[-0.00026078]] \n",
      "Alpha= [ 9.64251134]\n"
     ]
    },
    {
     "data": {
      "image/png": "[encoded data removed]",
      "text/plain": [
       "<matplotlib.figure.Figure at 0x13ca75fd0>"
      ]
     },
     "metadata": {},
     "output_type": "display_data"
    },
    {
     "name": "stdout",
     "output_type": "stream",
     "text": [
      "Beta= [[-0.05288274]] \n",
      "Alpha= [ 1.59865936]\n"
     ]
    },
    {
     "data": {
      "image/png": "[encoded data removed]",
      "text/plain": [
       "<matplotlib.figure.Figure at 0x13cc4bed0>"
      ]
     },
     "metadata": {},
     "output_type": "display_data"
    },
    {
     "name": "stdout",
     "output_type": "stream",
     "text": [
      "Beta= [[ -6.46151812e-05]] \n",
      "Alpha= [ 1.14115808]\n"
     ]
    },
    {
     "data": {
      "image/png": "[encoded data removed]",
      "text/plain": [
       "<matplotlib.figure.Figure at 0x13c911550>"
      ]
     },
     "metadata": {},
     "output_type": "display_data"
    }
   ],
   "source": [
    "#Define a function to multiply a scalar with a vector\n",
    "def scalar_multiply(c, v):\n",
    "    \"\"\"c is a number, v is a vector\"\"\"\n",
    "    return [c * v_i for v_i in v]\n",
    "\n",
    "import matplotlib\n",
    "import matplotlib.pylab as plt\n",
    "\n",
    "coeff_diam = []\n",
    "intercept_diam = []\n",
    "coeff_treesAmount = []\n",
    "intercept_treesAmount = []\n",
    "\n",
    "fig, ax1 = plt.subplots()\n",
    "ax1.set_xlabel('diameter')\n",
    "ax1.set_ylabel('no2')\n",
    "ax1.scatter(np.asarray(input_tuple1), np.asarray(list_no2))\n",
    "from sklearn import linear_model\n",
    "reg = linear_model.LinearRegression()\n",
    "self_lin = reg.fit(np.asarray(input_tuple1).reshape(-1,1), np.asarray(list_no2).reshape(-1,1)) #reshape arrays\n",
    "coeff_diam.append(reg.coef_)\n",
    "intercept_diam.append(reg.intercept_)\n",
    "print \"Beta=\", reg.coef_, \n",
    "print \"\"\n",
    "print \"Alpha=\", reg.intercept_\n",
    "plt.plot(input_tuple1, scalar_multiply(reg.coef_[0][0], input_tuple1) + reg.intercept_[0], color='red')\n",
    "plt.show()\n",
    "fig, ax2 = plt.subplots()\n",
    "ax2.set_xlabel('trees amount')\n",
    "ax2.set_ylabel('no2')\n",
    "ax2.scatter(np.asarray(input_tuple2), np.asarray(list_no2))\n",
    "reg = linear_model.LinearRegression()\n",
    "self_lin = reg.fit(np.asarray(input_tuple2).reshape(-1,1), np.asarray(list_no2).reshape(-1,1)) #reshape arrays\n",
    "coeff_treesAmount.append(reg.coef_)\n",
    "intercept_treesAmount.append(reg.intercept_)\n",
    "print \"Beta=\", reg.coef_, \n",
    "print \"\"\n",
    "print \"Alpha=\", reg.intercept_\n",
    "plt.plot(input_tuple2, scalar_multiply(reg.coef_[0][0], input_tuple2) + reg.intercept_[0], color='red')\n",
    "plt.show()\n",
    "\n",
    "fig, ax = plt.subplots()\n",
    "ax.set_xlabel('diameter')\n",
    "ax.set_ylabel('o3')\n",
    "ax.scatter(np.asarray(input_tuple1), np.asarray(list_o3))\n",
    "reg = linear_model.LinearRegression()\n",
    "self_lin = reg.fit(np.asarray(input_tuple1).reshape(-1,1), np.asarray(list_o3).reshape(-1,1)) #reshape arrays\n",
    "coeff_diam.append(reg.coef_)\n",
    "intercept_diam.append(reg.intercept_)\n",
    "print \"Beta=\", reg.coef_, \n",
    "print \"\"\n",
    "print \"Alpha=\", reg.intercept_\n",
    "plt.plot(input_tuple1, scalar_multiply(reg.coef_[0][0], input_tuple1) + reg.intercept_[0], color='red')\n",
    "plt.show()\n",
    "fig, ax = plt.subplots()\n",
    "ax.set_xlabel('trees amount')\n",
    "ax.set_ylabel('o3')\n",
    "ax.scatter(np.asarray(input_tuple2), np.asarray(list_o3))\n",
    "reg = linear_model.LinearRegression()\n",
    "self_lin = reg.fit(np.asarray(input_tuple2).reshape(-1,1), np.asarray(list_o3).reshape(-1,1)) #reshape arrays\n",
    "coeff_treesAmount.append(reg.coef_)\n",
    "intercept_treesAmount.append(reg.intercept_)\n",
    "print \"Beta=\", reg.coef_, \n",
    "print \"\"\n",
    "print \"Alpha=\", reg.intercept_\n",
    "plt.plot(input_tuple2, scalar_multiply(reg.coef_[0][0], input_tuple2) + reg.intercept_[0], color='red')\n",
    "plt.show()\n",
    "\n",
    "fig, ax = plt.subplots()\n",
    "ax.set_xlabel('diameter')\n",
    "ax.set_ylabel('pm25')\n",
    "ax.scatter(np.asarray(input_tuple1), np.asarray(list_pm25))\n",
    "reg = linear_model.LinearRegression()\n",
    "self_lin = reg.fit(np.asarray(input_tuple1).reshape(-1,1), np.asarray(list_pm25).reshape(-1,1)) #reshape arrays\n",
    "coeff_diam.append(reg.coef_)\n",
    "intercept_diam.append(reg.intercept_)\n",
    "print \"Beta=\", reg.coef_, \n",
    "print \"\"\n",
    "print \"Alpha=\", reg.intercept_\n",
    "plt.plot(input_tuple1, scalar_multiply(reg.coef_[0][0], input_tuple1) + reg.intercept_[0], color='red')\n",
    "plt.show()\n",
    "fig, ax = plt.subplots()\n",
    "ax.set_xlabel('trees amount')\n",
    "ax.set_ylabel('pm25')\n",
    "ax.scatter(np.asarray(input_tuple2), np.asarray(list_pm25))\n",
    "reg = linear_model.LinearRegression()\n",
    "self_lin = reg.fit(np.asarray(input_tuple2).reshape(-1,1), np.asarray(list_pm25).reshape(-1,1)) #reshape arrays\n",
    "coeff_treesAmount.append(reg.coef_)\n",
    "intercept_treesAmount.append(reg.intercept_)\n",
    "print \"Beta=\", reg.coef_, \n",
    "print \"\"\n",
    "print \"Alpha=\", reg.intercept_\n",
    "plt.plot(input_tuple2, scalar_multiply(reg.coef_[0][0], input_tuple2) + reg.intercept_[0], color='red')\n",
    "plt.show()\n",
    "\n",
    "fig, ax = plt.subplots()\n",
    "ax.set_xlabel('diameter')\n",
    "ax.set_ylabel('black carbon')\n",
    "ax.scatter(np.asarray(input_tuple1), np.asarray(list_bc))\n",
    "reg = linear_model.LinearRegression()\n",
    "self_lin = reg.fit(np.asarray(input_tuple1).reshape(-1,1), np.asarray(list_bc).reshape(-1,1)) #reshape arrays\n",
    "coeff_diam.append(reg.coef_)\n",
    "intercept_diam.append(reg.intercept_)\n",
    "print \"Beta=\", reg.coef_, \n",
    "print \"\"\n",
    "print \"Alpha=\", reg.intercept_\n",
    "plt.plot(input_tuple1, scalar_multiply(reg.coef_[0][0], input_tuple1) + reg.intercept_[0], color='red')\n",
    "plt.show()\n",
    "fig, ax = plt.subplots()\n",
    "ax.set_xlabel('trees amount')\n",
    "ax.set_ylabel('black carbon')\n",
    "ax.scatter(np.asarray(input_tuple2), np.asarray(list_bc))\n",
    "reg = linear_model.LinearRegression()\n",
    "self_lin = reg.fit(np.asarray(input_tuple2).reshape(-1,1), np.asarray(list_bc).reshape(-1,1)) #reshape arrays\n",
    "coeff_treesAmount.append(reg.coef_)\n",
    "intercept_treesAmount.append(reg.intercept_)\n",
    "print \"Beta=\", reg.coef_, \n",
    "print \"\"\n",
    "print \"Alpha=\", reg.intercept_\n",
    "plt.plot(input_tuple2, scalar_multiply(reg.coef_[0][0], input_tuple2) + reg.intercept_[0], color='red')\n",
    "plt.show()"
   ]
  },
  {
   "cell_type": "code",
   "execution_count": 14,
   "metadata": {
    "collapsed": false
   },
   "outputs": [],
   "source": [
    "with open('AirPollutionCSV/CoeffInterDiam.csv', 'wb') as csvfile:\n",
    "    crimewriter = csv.writer(csvfile)\n",
    "    crimewriter.writerow(('Coeff', 'Intercept'))\n",
    "    for xd, yd in zip(coeff_diam, intercept_diam):\n",
    "        crimewriter.writerow( ( float(xd), float(yd) ) )\n",
    "    csvfile.close()\n",
    "with open('AirPollutionCSV/CoeffInterTreesAmount.csv', 'wb') as csvfile:\n",
    "    crimewriter = csv.writer(csvfile)\n",
    "    crimewriter.writerow(('Coeff', 'Intercept'))\n",
    "    for xd, yd in zip(coeff_treesAmount, intercept_treesAmount):\n",
    "        crimewriter.writerow( ( float(xd), float(yd) ) )\n",
    "    csvfile.close()"
   ]
  },
  {
   "cell_type": "code",
   "execution_count": 16,
   "metadata": {
    "collapsed": false
   },
   "outputs": [
    {
     "name": "stdout",
     "output_type": "stream",
     "text": [
      "r^2 elastic net on test data : 0.509594\n",
      "Mean squared error: 5.42\n",
      "Mean squared error: 5.36\n",
      "r^2 lasso on test data : 0.515746\n",
      "Mean squared error: 5.52\n",
      "Variance score (ols): 0.50\n"
     ]
    }
   ],
   "source": [
    "import matplotlib.pyplot as plt\n",
    "import numpy as np\n",
    "from sklearn import model_selection\n",
    "from sklearn import linear_model\n",
    "from sklearn.metrics import r2_score\n",
    "alpha = 0.2\n",
    "\n",
    "X_train, X_test, y_train, y_test = model_selection.train_test_split(input_tuple\n",
    "                                                    , list_no2\n",
    "                                                    , test_size=0.25, random_state=42)\n",
    "\n",
    "from sklearn.linear_model import ElasticNet\n",
    "enet = ElasticNet(alpha=alpha, l1_ratio=0.7)\n",
    "\n",
    "y_pred_enet = enet.fit(X_train, y_train).predict(X_test)\n",
    "r2_score_enet = r2_score(y_test, y_pred_enet)\n",
    "print(\"r^2 elastic net on test data : %f\" % r2_score_enet)\n",
    "print(\"Mean squared error: %.2f\"\n",
    "      % np.mean((enet.predict(X_test) - y_test) ** 2))\n",
    "\n",
    "from sklearn.linear_model import Lasso\n",
    "alpha = 0.3\n",
    "lasso = Lasso(alpha=alpha)\n",
    "\n",
    "y_pred_lasso = lasso.fit(X_train, y_train).predict(X_test)\n",
    "r2_score_lasso = r2_score(y_test, y_pred_lasso)\n",
    "#print(lasso)\n",
    "print(\"Mean squared error: %.2f\"\n",
    "      % np.mean((lasso.predict(X_test) - y_test) ** 2))\n",
    "print(\"r^2 lasso on test data : %f\" % r2_score_lasso)\n",
    "\n",
    "reg = linear_model.LinearRegression()\n",
    "self_mul = reg.fit(X_train, y_train).predict(X_test)\n",
    "print(\"Mean squared error: %.2f\"\n",
    "      % np.mean((reg.predict(X_test) - y_test) ** 2))\n",
    "# Explained variance score: 1 is perfect prediction\n",
    "print('Variance score (ols): %.2f' % reg.score(X_test, y_test))"
   ]
  },
  {
   "cell_type": "code",
   "execution_count": null,
   "metadata": {
    "collapsed": true
   },
   "outputs": [],
   "source": []
  }
 ],
 "metadata": {
  "kernelspec": {
   "display_name": "Python 2",
   "language": "python",
   "name": "python2"
  },
  "language_info": {
   "codemirror_mode": {
    "name": "ipython",
    "version": 2
   },
   "file_extension": ".py",
   "mimetype": "text/x-python",
   "name": "python",
   "nbconvert_exporter": "python",
   "pygments_lexer": "ipython2",
   "version": "2.7.13"
  }
 },
 "nbformat": 4,
 "nbformat_minor": 2
}
